{
  "nbformat": 4,
  "nbformat_minor": 0,
  "metadata": {
    "colab": {
      "name": "0523.ipynb",
      "provenance": [],
      "authorship_tag": "ABX9TyPcUgG3j5qPvRuEj7nvM4+i",
      "include_colab_link": true
    },
    "kernelspec": {
      "name": "python3",
      "display_name": "Python 3"
    },
    "language_info": {
      "name": "python"
    }
  },
  "cells": [
    {
      "cell_type": "markdown",
      "metadata": {
        "id": "view-in-github",
        "colab_type": "text"
      },
      "source": [
        "<a href=\"https://colab.research.google.com/github/409550018/lntroduction-to-Computer/blob/main/0523.ipynb\" target=\"_parent\"><img src=\"https://colab.research.google.com/assets/colab-badge.svg\" alt=\"Open In Colab\"/></a>"
      ]
    },
    {
      "cell_type": "code",
      "execution_count": null,
      "metadata": {
        "colab": {
          "base_uri": "https://localhost:8080/"
        },
        "id": "_dudK1S_zoJ5",
        "outputId": "93bbe82e-218a-4238-eaeb-36ff4f2eac8c"
      },
      "outputs": [
        {
          "output_type": "stream",
          "name": "stdout",
          "text": [
            "0523\n"
          ]
        }
      ],
      "source": [
        "print(\"0523\")"
      ]
    },
    {
      "cell_type": "code",
      "source": [
        "sum = 0\n",
        "test = int(input(\"請輸入ㄧ個正整數：\"))\n",
        "for n in range(1,test+1):\n",
        "    sum = sum+n\n",
        "print(\"1到\",test,\"的整數和爲\",sum)"
      ],
      "metadata": {
        "colab": {
          "base_uri": "https://localhost:8080/"
        },
        "id": "kFiO3LdxzsOd",
        "outputId": "ac6614bc-b670-486c-b02d-06ead44cef80"
      },
      "execution_count": null,
      "outputs": [
        {
          "output_type": "stream",
          "name": "stdout",
          "text": [
            "請輸入ㄧ個正整數：10\n",
            "1到 10 的整數和爲 55\n"
          ]
        }
      ]
    },
    {
      "cell_type": "code",
      "source": [
        "\n",
        "sum = 0\n",
        "test = int(input(\"請輸入ㄧ個請整數:\"))\n",
        "for n in range(1,test+1):\n",
        "    sum = sum+n\n",
        "    print(\"1到\",test,\"的整數和爲\",sum)"
      ],
      "metadata": {
        "colab": {
          "base_uri": "https://localhost:8080/"
        },
        "id": "e942bT7SzsRw",
        "outputId": "aa938f53-265f-41d6-d8d5-8faae104f576"
      },
      "execution_count": null,
      "outputs": [
        {
          "output_type": "stream",
          "name": "stdout",
          "text": [
            "請輸入ㄧ個請整數:50\n",
            "1到 50 的整數和爲 1\n",
            "1到 50 的整數和爲 3\n",
            "1到 50 的整數和爲 6\n",
            "1到 50 的整數和爲 10\n",
            "1到 50 的整數和爲 15\n",
            "1到 50 的整數和爲 21\n",
            "1到 50 的整數和爲 28\n",
            "1到 50 的整數和爲 36\n",
            "1到 50 的整數和爲 45\n",
            "1到 50 的整數和爲 55\n",
            "1到 50 的整數和爲 66\n",
            "1到 50 的整數和爲 78\n",
            "1到 50 的整數和爲 91\n",
            "1到 50 的整數和爲 105\n",
            "1到 50 的整數和爲 120\n",
            "1到 50 的整數和爲 136\n",
            "1到 50 的整數和爲 153\n",
            "1到 50 的整數和爲 171\n",
            "1到 50 的整數和爲 190\n",
            "1到 50 的整數和爲 210\n",
            "1到 50 的整數和爲 231\n",
            "1到 50 的整數和爲 253\n",
            "1到 50 的整數和爲 276\n",
            "1到 50 的整數和爲 300\n",
            "1到 50 的整數和爲 325\n",
            "1到 50 的整數和爲 351\n",
            "1到 50 的整數和爲 378\n",
            "1到 50 的整數和爲 406\n",
            "1到 50 的整數和爲 435\n",
            "1到 50 的整數和爲 465\n",
            "1到 50 的整數和爲 496\n",
            "1到 50 的整數和爲 528\n",
            "1到 50 的整數和爲 561\n",
            "1到 50 的整數和爲 595\n",
            "1到 50 的整數和爲 630\n",
            "1到 50 的整數和爲 666\n",
            "1到 50 的整數和爲 703\n",
            "1到 50 的整數和爲 741\n",
            "1到 50 的整數和爲 780\n",
            "1到 50 的整數和爲 820\n",
            "1到 50 的整數和爲 861\n",
            "1到 50 的整數和爲 903\n",
            "1到 50 的整數和爲 946\n",
            "1到 50 的整數和爲 990\n",
            "1到 50 的整數和爲 1035\n",
            "1到 50 的整數和爲 1081\n",
            "1到 50 的整數和爲 1128\n",
            "1到 50 的整數和爲 1176\n",
            "1到 50 的整數和爲 1225\n",
            "1到 50 的整數和爲 1275\n"
          ]
        }
      ]
    },
    {
      "cell_type": "code",
      "source": [
        "for j in range(1,5):\n",
        "    print(j)\n",
        "    for i in range(1,3):\n",
        "        k=i*j\n",
        "        print(j,\"*\",i,\"=\",k)"
      ],
      "metadata": {
        "colab": {
          "base_uri": "https://localhost:8080/"
        },
        "id": "-v8b38pYzsU6",
        "outputId": "bbab9340-4d8d-4ee4-e39b-718f953326d2"
      },
      "execution_count": null,
      "outputs": [
        {
          "output_type": "stream",
          "name": "stdout",
          "text": [
            "1\n",
            "1 * 1 = 1\n",
            "1 * 2 = 2\n",
            "2\n",
            "2 * 1 = 2\n",
            "2 * 2 = 4\n",
            "3\n",
            "3 * 1 = 3\n",
            "3 * 2 = 6\n",
            "4\n",
            "4 * 1 = 4\n",
            "4 * 2 = 8\n"
          ]
        }
      ]
    },
    {
      "cell_type": "code",
      "source": [
        "for i in range(1,5):\n",
        "    if (i==4):\n",
        "        break\n",
        "    print(i, end=\" \")"
      ],
      "metadata": {
        "colab": {
          "base_uri": "https://localhost:8080/"
        },
        "id": "j86xs8TFzsd_",
        "outputId": "d4dcd9ee-8c74-43ed-c9b6-3f517ec7262d"
      },
      "execution_count": null,
      "outputs": [
        {
          "output_type": "stream",
          "name": "stdout",
          "text": [
            "1 2 3 "
          ]
        }
      ]
    },
    {
      "cell_type": "code",
      "source": [
        "count=0\n",
        "for string in '測試看看！':\n",
        "    count+=1\n",
        "    if string == '看':\n",
        "        break\n",
        "    print(string)\n",
        "\n",
        "print('迴圈結束')\n",
        "print('迴圈執行了 %d次' %count)"
      ],
      "metadata": {
        "colab": {
          "base_uri": "https://localhost:8080/"
        },
        "id": "XqX2-JIOzskC",
        "outputId": "748a37c2-1ee6-41c4-e139-487f75da3e68"
      },
      "execution_count": null,
      "outputs": [
        {
          "output_type": "stream",
          "name": "stdout",
          "text": [
            "測\n",
            "試\n",
            "迴圈結束\n",
            "迴圈執行了 3次\n"
          ]
        }
      ]
    },
    {
      "cell_type": "code",
      "source": [
        ""
      ],
      "metadata": {
        "id": "-aLLcpf3zsnA"
      },
      "execution_count": null,
      "outputs": []
    },
    {
      "cell_type": "code",
      "source": [
        ""
      ],
      "metadata": {
        "id": "i6TDajOMzsqa"
      },
      "execution_count": null,
      "outputs": []
    }
  ]
}