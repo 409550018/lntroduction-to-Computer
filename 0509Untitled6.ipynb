{
  "nbformat": 4,
  "nbformat_minor": 0,
  "metadata": {
    "colab": {
      "name": "0509Untitled6.ipynb",
      "provenance": [],
      "authorship_tag": "ABX9TyPatdtWhvXTuJSz0tZY2yZY",
      "include_colab_link": true
    },
    "kernelspec": {
      "name": "python3",
      "display_name": "Python 3"
    },
    "language_info": {
      "name": "python"
    }
  },
  "cells": [
    {
      "cell_type": "markdown",
      "metadata": {
        "id": "view-in-github",
        "colab_type": "text"
      },
      "source": [
        "<a href=\"https://colab.research.google.com/github/409550018/lntroduction-to-Computer/blob/main/0509Untitled6.ipynb\" target=\"_parent\"><img src=\"https://colab.research.google.com/assets/colab-badge.svg\" alt=\"Open In Colab\"/></a>"
      ]
    },
    {
      "cell_type": "code",
      "execution_count": null,
      "metadata": {
        "colab": {
          "base_uri": "https://localhost:8080/"
        },
        "id": "7O2xCWkPgyz1",
        "outputId": "a0d9b34f-b863-4ec3-b656-264390951bad"
      },
      "outputs": [
        {
          "output_type": "stream",
          "name": "stdout",
          "text": [
            "請輸入你的體溫36\n",
            "體溫異常，請重新測量！ \n"
          ]
        }
      ],
      "source": [
        "temp= float(input(\"請輸入你的體溫\"))\n",
        "if temp >= 37.5:\n",
        "    print(\"體溫過高！\")\n",
        "elif temp >= 37 and temp < 37.4:\n",
        "    print(\"體溫略高！\")\n",
        "\n",
        "else:\n",
        "    print(\"體溫異常，請重新測量！ \")"
      ]
    },
    {
      "cell_type": "code",
      "source": [
        "score= input(\"請輸入成績\")\n",
        "if (int(score) >=90):\n",
        "    print(\"A\")\n",
        "elif (int(score) >= 80):\n",
        "    print(\"B\")\n",
        "elif (int(score) >= 70):\n",
        "    print(\"C\")\n",
        "elif (int(score) >= 60):\n",
        "    print(\"D\")\n",
        "else:\n",
        "    print(\"E\")"
      ],
      "metadata": {
        "colab": {
          "base_uri": "https://localhost:8080/"
        },
        "id": "kYApBV0ag1Vj",
        "outputId": "9e7587b0-d75a-4181-cda3-92666e9cc76b"
      },
      "execution_count": null,
      "outputs": [
        {
          "output_type": "stream",
          "name": "stdout",
          "text": [
            "請輸入成績50\n",
            "E\n"
          ]
        }
      ]
    },
    {
      "cell_type": "code",
      "source": [
        "money = int(input(\"請輸入購物金額: \"))\n",
        "if(money >= 10000):\n",
        "    if(money >= 100000):\n",
        "        print(\"八折\",money * 0.8, end =\"元\\n\")\n",
        "    elif(money >= 50000):\n",
        "        print(\"八五折\",money * 0.85, end =\"元\\n\")"
      ],
      "metadata": {
        "id": "yRs2iDPQg1ab",
        "colab": {
          "base_uri": "https://localhost:8080/"
        },
        "outputId": "e1452e20-7c3d-432b-f067-472d51e9f699"
      },
      "execution_count": 19,
      "outputs": [
        {
          "output_type": "stream",
          "name": "stdout",
          "text": [
            "請輸入購物金額: 50000\n",
            "八五折 42500.0元\n"
          ]
        }
      ]
    },
    {
      "cell_type": "code",
      "source": [
        ""
      ],
      "metadata": {
        "id": "iPCFdBKmg142"
      },
      "execution_count": null,
      "outputs": []
    },
    {
      "cell_type": "code",
      "source": [
        ""
      ],
      "metadata": {
        "id": "S9hjrQwRg2EY"
      },
      "execution_count": null,
      "outputs": []
    },
    {
      "cell_type": "code",
      "source": [
        ""
      ],
      "metadata": {
        "id": "vc4v1swJg2Jr"
      },
      "execution_count": null,
      "outputs": []
    },
    {
      "cell_type": "code",
      "source": [
        ""
      ],
      "metadata": {
        "id": "trTZKchLg2Pu"
      },
      "execution_count": null,
      "outputs": []
    }
  ]
}